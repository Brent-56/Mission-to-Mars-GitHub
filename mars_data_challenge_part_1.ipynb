{
 "cells": [
  {
   "cell_type": "code",
   "execution_count": 72,
   "id": "e268dc4a",
   "metadata": {},
   "outputs": [],
   "source": [
    "import pandas as pd\n",
    "from splinter import Browser\n",
    "from bs4 import BeautifulSoup as soup\n",
    "from webdriver_manager.chrome import ChromeDriverManager"
   ]
  },
  {
   "cell_type": "code",
   "execution_count": 73,
   "id": "047741a9",
   "metadata": {},
   "outputs": [
    {
     "name": "stderr",
     "output_type": "stream",
     "text": [
      "\n",
      "\n",
      "INFO:WDM:\n",
      "\n",
      "====== WebDriver manager ======\n",
      "INFO:WDM:====== WebDriver manager ======\n",
      "Current google-chrome version is 107.0.5304\n",
      "INFO:WDM:Current google-chrome version is 107.0.5304\n",
      "Get LATEST chromedriver version for 107.0.5304 google-chrome\n",
      "INFO:WDM:Get LATEST chromedriver version for 107.0.5304 google-chrome\n",
      "Driver [/Users/brentonervin/.wdm/drivers/chromedriver/mac64/107.0.5304.62/chromedriver] found in cache\n",
      "INFO:WDM:Driver [/Users/brentonervin/.wdm/drivers/chromedriver/mac64/107.0.5304.62/chromedriver] found in cache\n"
     ]
    }
   ],
   "source": [
    "# Set up Splinter\n",
    "executable_path = {'executable_path': ChromeDriverManager().install()}"
   ]
  },
  {
   "cell_type": "code",
   "execution_count": 74,
   "id": "82da0d6b",
   "metadata": {},
   "outputs": [],
   "source": [
    "browser = Browser('chrome', **executable_path, headless=False)"
   ]
  },
  {
   "cell_type": "code",
   "execution_count": 75,
   "id": "7cd53367",
   "metadata": {},
   "outputs": [],
   "source": [
    "url = 'https://redplanetscience.com/'\n",
    "browser.visit(url)"
   ]
  },
  {
   "cell_type": "code",
   "execution_count": 76,
   "id": "999f67cc",
   "metadata": {},
   "outputs": [],
   "source": [
    "html = browser.html\n",
    "html_soup = soup(html, 'html.parser')"
   ]
  },
  {
   "cell_type": "code",
   "execution_count": 77,
   "id": "b37f817c",
   "metadata": {},
   "outputs": [
    {
     "name": "stdout",
     "output_type": "stream",
     "text": [
      "News - Mars Exploration Program\n"
     ]
    }
   ],
   "source": [
    " # Scrape the Title\n",
    "title = html_soup.find('title')\n",
    "title =  title.text\n",
    "print(title)\n",
    "#print(title)"
   ]
  },
  {
   "cell_type": "code",
   "execution_count": 85,
   "id": "0dc5e422",
   "metadata": {},
   "outputs": [
    {
     "name": "stdout",
     "output_type": "stream",
     "text": [
      "[{'Title': \"What's Mars Solar Conjunction, and Why Does It Matter?\", 'Preview': 'NASA spacecraft at Mars are going to be on their own for a few weeks when the Sun comes between Mars and Earth, interrupting communications.'}, {'Title': \"NASA's Mars Perseverance Rover Gets Its Sample Handling System\", 'Preview': 'The system will be collecting and storing Martian rock and soil. Its installation marks another milestone in the march toward the July launch period.'}, {'Title': \"NASA's Treasure Map for Water Ice on Mars\", 'Preview': 'A new study identifies frozen water just below the Martian surface, where astronauts could easily dig it up.'}, {'Title': \"NASA's Curiosity Keeps Rolling As Team Operates Rover From Home\", 'Preview': 'The team has learned to meet new challenges as they work remotely on the Mars mission.'}, {'Title': \"NASA's MAVEN Observes Martian Night Sky Pulsing in Ultraviolet Light\", 'Preview': 'Vast areas of the Martian night sky pulse in ultraviolet light, according to images from NASA’s MAVEN spacecraft. The results are being used to illuminate complex circulation patterns in the Martian atmosphere.'}, {'Title': \"NASA's Briefcase-Size MarCO Satellite Picks Up Honors\", 'Preview': 'The twin spacecraft, the first of their kind to fly into deep space, earn a Laureate from Aviation Week & Space Technology.'}, {'Title': \"NASA's New Mars Rover Will Use X-Rays to Hunt Fossils\", 'Preview': \"PIXL, an instrument on the end of the Perseverance rover's arm, will search for chemical fingerprints left by ancient microbes.\"}, {'Title': 'New Selfie Shows Curiosity, the Mars Chemist', 'Preview': 'The NASA rover performed a special chemistry experiment at the location captured in its newest self-portrait.'}, {'Title': 'MAVEN Maps Electric Currents around Mars that are Fundamental to Atmospheric Loss', 'Preview': 'Five years after NASA’s MAVEN spacecraft entered into orbit around Mars, data from the mission has led to the creation of a map of electric current systems in the Martian atmosphere.'}, {'Title': \"The Launch Is Approaching for NASA's Next Mars Rover, Perseverance\", 'Preview': \"The Red Planet's surface has been visited by eight NASA spacecraft. The ninth will be the first that includes a roundtrip ticket in its flight plan. \"}, {'Title': \"Follow NASA's Perseverance Rover in Real Time on Its Way to Mars\", 'Preview': \"A crisply rendered web application can show you where the agency's Mars 2020 mission is right now as it makes its way to the Red Planet for a Feb. 18, 2021, landing.\"}, {'Title': \"NASA's Perseverance Rover Mission Getting in Shape for Launch\", 'Preview': 'Stacking spacecraft components on top of each other is one of the final assembly steps before a mission launches to the Red Planet. '}, {'Title': \"Mars InSight Lander to Push on Top of the 'Mole'\", 'Preview': 'Engineers have a plan for pushing down on the heat probe, which has been stuck at the Martian surface for a year.'}, {'Title': 'Mars 2020 Unwrapped and Ready for More Testing', 'Preview': \"In time-lapse video, bunny-suited engineers remove the inner layer of protective foil on NASA's Mars 2020 rover after it was relocated for testing.\"}, {'Title': 'NASA Wins Two Emmy Awards for Interactive Mission Coverage', 'Preview': \"NASA-JPL's coverage of the Mars InSight landing earns one of the two wins, making this the NASA center's second Emmy.\"}]\n"
     ]
    }
   ],
   "source": [
    "# Scrape title of each article and the \n",
    "title_article = html_soup.find('section', class_='image_and_description_container')\n",
    "# tag_box\n",
    "titles = title_article.find_all('div', class_='content_title')\n",
    "\n",
    "previews = title_article.find_all('div', class_='article_teaser_body')\n",
    "\n",
    "title_preview = []\n",
    "\n",
    "\n",
    "for x in range(len(titles)):\n",
    "    title_name = titles[x].text\n",
    "    #print(title_name)\n",
    "    preview_text = previews[x].text\n",
    "    title_prev = {}\n",
    "    title_prev['Title'] = title_name\n",
    "    title_prev['Preview']= preview_text\n",
    "    title_preview.append(title_prev)\n",
    "    \n",
    "    \n",
    "    \n",
    "print(title_preview)\n",
    "\n",
    "#for preview in previews:\n",
    "   \n",
    "    #print(preview_text)\n",
    "\n",
    "    "
   ]
  },
  {
   "cell_type": "code",
   "execution_count": null,
   "id": "eecdbd68",
   "metadata": {},
   "outputs": [],
   "source": []
  },
  {
   "cell_type": "code",
   "execution_count": null,
   "id": "05726d5d",
   "metadata": {},
   "outputs": [],
   "source": []
  }
 ],
 "metadata": {
  "kernelspec": {
   "display_name": "PythonData",
   "language": "python",
   "name": "pythondata"
  },
  "language_info": {
   "codemirror_mode": {
    "name": "ipython",
    "version": 3
   },
   "file_extension": ".py",
   "mimetype": "text/x-python",
   "name": "python",
   "nbconvert_exporter": "python",
   "pygments_lexer": "ipython3",
   "version": "3.9.12"
  }
 },
 "nbformat": 4,
 "nbformat_minor": 5
}
